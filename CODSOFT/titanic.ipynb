{
 "cells": [
  {
   "cell_type": "code",
   "execution_count": 1,
   "metadata": {},
   "outputs": [],
   "source": [
    "import pandas as TSP\n",
    "from sklearn.model_selection import train_test_split\n",
    "from sklearn.ensemble import RandomForestClassifier\n",
    "from sklearn.metrics import accuracy_score"
   ]
  },
  {
   "cell_type": "code",
   "execution_count": 2,
   "metadata": {},
   "outputs": [],
   "source": [
    "\n",
    "tspsheet = TSP.read_csv(r\"C:\\Users\\reddy\\Desktop\\codsoft\\Titanic-Dataset.csv\")"
   ]
  },
  {
   "cell_type": "code",
   "execution_count": 3,
   "metadata": {},
   "outputs": [],
   "source": [
    "\n",
    "tspsheet.dropna(subset=['Age', 'Sex', 'SibSp'], inplace=True)\n",
    "tspsheet['Sex'] = tspsheet['Sex'].map({'male': 0, 'female': 1})"
   ]
  },
  {
   "cell_type": "code",
   "execution_count": 4,
   "metadata": {},
   "outputs": [],
   "source": [
    "\n",
    "A = tspsheet[['SibSp', 'Sex', 'Age']]\n",
    "B = tspsheet['Survived']"
   ]
  },
  {
   "cell_type": "code",
   "execution_count": 5,
   "metadata": {},
   "outputs": [],
   "source": [
    "\n",
    "A_train, A_test, B_train, B_test = train_test_split(A, B, test_size=0.2, random_state=42)"
   ]
  },
  {
   "cell_type": "code",
   "execution_count": 6,
   "metadata": {},
   "outputs": [],
   "source": [
    "\n",
    "X = RandomForestClassifier(n_estimators=100, random_state=42)\n",
    "X.fit(A_train, B_train)# Predict on the test set\n",
    "C_pred = X.predict(A_test)"
   ]
  },
  {
   "cell_type": "code",
   "execution_count": 7,
   "metadata": {},
   "outputs": [
    {
     "name": "stdout",
     "output_type": "stream",
     "text": [
      "Accuracy: 0.7132867132867133\n"
     ]
    }
   ],
   "source": [
    "\n",
    "acurcy = accuracy_score(B_test, C_pred)\n",
    "print(\"Accuracy:\", acurcy)"
   ]
  },
  {
   "cell_type": "code",
   "execution_count": 8,
   "metadata": {},
   "outputs": [
    {
     "name": "stdout",
     "output_type": "stream",
     "text": [
      "Survived\n"
     ]
    }
   ],
   "source": [
    "\n",
    "def survival_prediction(SipSb, sex, age):\n",
    "    input_data = TSP.DataFrame({'SibSp': [SipSb], 'Sex': [sex], 'Age': [age]})\n",
    "    forecast = X.predict(input_data)[0]\n",
    "    if forecast == 1:\n",
    "        return \"Survived\"\n",
    "    else:\n",
    "        return \"The one you're looking did not survive\"\n",
    "print(survival_prediction(1, 1, 16))\n"
   ]
  }
 ],
 "metadata": {
  "kernelspec": {
   "display_name": "Python 3",
   "language": "python",
   "name": "python3"
  },
  "language_info": {
   "codemirror_mode": {
    "name": "ipython",
    "version": 3
   },
   "file_extension": ".py",
   "mimetype": "text/x-python",
   "name": "python",
   "nbconvert_exporter": "python",
   "pygments_lexer": "ipython3",
   "version": "3.12.4"
  }
 },
 "nbformat": 4,
 "nbformat_minor": 2
}
